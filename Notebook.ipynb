{
 "cells": [
  {
   "cell_type": "markdown",
   "metadata": {
    "collapsed": true
   },
   "source": [
    "## Predicting House Sale Prices\n",
    "\n",
    "### 1. Reading in DataFrame, first test.."
   ]
  },
  {
   "cell_type": "code",
   "execution_count": 1,
   "metadata": {},
   "outputs": [],
   "source": [
    "import pandas as pd\n",
    "import numpy as np\n",
    "import matplotlib.pyplot as plt\n",
    "import seaborn as sns\n",
    "%matplotlib inline\n",
    "from sklearn.linear_model import LinearRegression\n",
    "from sklearn.metrics import mean_squared_error\n",
    "from sklearn.model_selection import KFold, cross_val_score\n",
    "from sklearn.metrics import make_scorer"
   ]
  },
  {
   "cell_type": "code",
   "execution_count": 2,
   "metadata": {},
   "outputs": [
    {
     "data": {
      "text/html": [
       "<div>\n",
       "<style scoped>\n",
       "    .dataframe tbody tr th:only-of-type {\n",
       "        vertical-align: middle;\n",
       "    }\n",
       "\n",
       "    .dataframe tbody tr th {\n",
       "        vertical-align: top;\n",
       "    }\n",
       "\n",
       "    .dataframe thead th {\n",
       "        text-align: right;\n",
       "    }\n",
       "</style>\n",
       "<table border=\"1\" class=\"dataframe\">\n",
       "  <thead>\n",
       "    <tr style=\"text-align: right;\">\n",
       "      <th></th>\n",
       "      <th>Order</th>\n",
       "      <th>PID</th>\n",
       "      <th>MS SubClass</th>\n",
       "      <th>MS Zoning</th>\n",
       "      <th>Lot Frontage</th>\n",
       "      <th>Lot Area</th>\n",
       "      <th>Street</th>\n",
       "      <th>Alley</th>\n",
       "      <th>Lot Shape</th>\n",
       "      <th>Land Contour</th>\n",
       "      <th>...</th>\n",
       "      <th>Pool Area</th>\n",
       "      <th>Pool QC</th>\n",
       "      <th>Fence</th>\n",
       "      <th>Misc Feature</th>\n",
       "      <th>Misc Val</th>\n",
       "      <th>Mo Sold</th>\n",
       "      <th>Yr Sold</th>\n",
       "      <th>Sale Type</th>\n",
       "      <th>Sale Condition</th>\n",
       "      <th>SalePrice</th>\n",
       "    </tr>\n",
       "  </thead>\n",
       "  <tbody>\n",
       "    <tr>\n",
       "      <th>0</th>\n",
       "      <td>1</td>\n",
       "      <td>526301100</td>\n",
       "      <td>20</td>\n",
       "      <td>RL</td>\n",
       "      <td>141.0</td>\n",
       "      <td>31770</td>\n",
       "      <td>Pave</td>\n",
       "      <td>NaN</td>\n",
       "      <td>IR1</td>\n",
       "      <td>Lvl</td>\n",
       "      <td>...</td>\n",
       "      <td>0</td>\n",
       "      <td>NaN</td>\n",
       "      <td>NaN</td>\n",
       "      <td>NaN</td>\n",
       "      <td>0</td>\n",
       "      <td>5</td>\n",
       "      <td>2010</td>\n",
       "      <td>WD</td>\n",
       "      <td>Normal</td>\n",
       "      <td>215000</td>\n",
       "    </tr>\n",
       "    <tr>\n",
       "      <th>1</th>\n",
       "      <td>2</td>\n",
       "      <td>526350040</td>\n",
       "      <td>20</td>\n",
       "      <td>RH</td>\n",
       "      <td>80.0</td>\n",
       "      <td>11622</td>\n",
       "      <td>Pave</td>\n",
       "      <td>NaN</td>\n",
       "      <td>Reg</td>\n",
       "      <td>Lvl</td>\n",
       "      <td>...</td>\n",
       "      <td>0</td>\n",
       "      <td>NaN</td>\n",
       "      <td>MnPrv</td>\n",
       "      <td>NaN</td>\n",
       "      <td>0</td>\n",
       "      <td>6</td>\n",
       "      <td>2010</td>\n",
       "      <td>WD</td>\n",
       "      <td>Normal</td>\n",
       "      <td>105000</td>\n",
       "    </tr>\n",
       "    <tr>\n",
       "      <th>2</th>\n",
       "      <td>3</td>\n",
       "      <td>526351010</td>\n",
       "      <td>20</td>\n",
       "      <td>RL</td>\n",
       "      <td>81.0</td>\n",
       "      <td>14267</td>\n",
       "      <td>Pave</td>\n",
       "      <td>NaN</td>\n",
       "      <td>IR1</td>\n",
       "      <td>Lvl</td>\n",
       "      <td>...</td>\n",
       "      <td>0</td>\n",
       "      <td>NaN</td>\n",
       "      <td>NaN</td>\n",
       "      <td>Gar2</td>\n",
       "      <td>12500</td>\n",
       "      <td>6</td>\n",
       "      <td>2010</td>\n",
       "      <td>WD</td>\n",
       "      <td>Normal</td>\n",
       "      <td>172000</td>\n",
       "    </tr>\n",
       "    <tr>\n",
       "      <th>3</th>\n",
       "      <td>4</td>\n",
       "      <td>526353030</td>\n",
       "      <td>20</td>\n",
       "      <td>RL</td>\n",
       "      <td>93.0</td>\n",
       "      <td>11160</td>\n",
       "      <td>Pave</td>\n",
       "      <td>NaN</td>\n",
       "      <td>Reg</td>\n",
       "      <td>Lvl</td>\n",
       "      <td>...</td>\n",
       "      <td>0</td>\n",
       "      <td>NaN</td>\n",
       "      <td>NaN</td>\n",
       "      <td>NaN</td>\n",
       "      <td>0</td>\n",
       "      <td>4</td>\n",
       "      <td>2010</td>\n",
       "      <td>WD</td>\n",
       "      <td>Normal</td>\n",
       "      <td>244000</td>\n",
       "    </tr>\n",
       "    <tr>\n",
       "      <th>4</th>\n",
       "      <td>5</td>\n",
       "      <td>527105010</td>\n",
       "      <td>60</td>\n",
       "      <td>RL</td>\n",
       "      <td>74.0</td>\n",
       "      <td>13830</td>\n",
       "      <td>Pave</td>\n",
       "      <td>NaN</td>\n",
       "      <td>IR1</td>\n",
       "      <td>Lvl</td>\n",
       "      <td>...</td>\n",
       "      <td>0</td>\n",
       "      <td>NaN</td>\n",
       "      <td>MnPrv</td>\n",
       "      <td>NaN</td>\n",
       "      <td>0</td>\n",
       "      <td>3</td>\n",
       "      <td>2010</td>\n",
       "      <td>WD</td>\n",
       "      <td>Normal</td>\n",
       "      <td>189900</td>\n",
       "    </tr>\n",
       "  </tbody>\n",
       "</table>\n",
       "<p>5 rows × 82 columns</p>\n",
       "</div>"
      ],
      "text/plain": [
       "   Order        PID  MS SubClass MS Zoning  Lot Frontage  Lot Area Street  \\\n",
       "0      1  526301100           20        RL         141.0     31770   Pave   \n",
       "1      2  526350040           20        RH          80.0     11622   Pave   \n",
       "2      3  526351010           20        RL          81.0     14267   Pave   \n",
       "3      4  526353030           20        RL          93.0     11160   Pave   \n",
       "4      5  527105010           60        RL          74.0     13830   Pave   \n",
       "\n",
       "  Alley Lot Shape Land Contour    ...     Pool Area Pool QC  Fence  \\\n",
       "0   NaN       IR1          Lvl    ...             0     NaN    NaN   \n",
       "1   NaN       Reg          Lvl    ...             0     NaN  MnPrv   \n",
       "2   NaN       IR1          Lvl    ...             0     NaN    NaN   \n",
       "3   NaN       Reg          Lvl    ...             0     NaN    NaN   \n",
       "4   NaN       IR1          Lvl    ...             0     NaN  MnPrv   \n",
       "\n",
       "  Misc Feature Misc Val Mo Sold Yr Sold Sale Type  Sale Condition  SalePrice  \n",
       "0          NaN        0       5    2010       WD           Normal     215000  \n",
       "1          NaN        0       6    2010       WD           Normal     105000  \n",
       "2         Gar2    12500       6    2010       WD           Normal     172000  \n",
       "3          NaN        0       4    2010       WD           Normal     244000  \n",
       "4          NaN        0       3    2010       WD           Normal     189900  \n",
       "\n",
       "[5 rows x 82 columns]"
      ]
     },
     "execution_count": 2,
     "metadata": {},
     "output_type": "execute_result"
    }
   ],
   "source": [
    "# Reading in pandas.DataFrame AmesHousing.csv\n",
    "df = pd.read_csv(\"AmesHousing.tsv\",delimiter=\"\\t\")\n",
    "df.head()"
   ]
  },
  {
   "cell_type": "code",
   "execution_count": 3,
   "metadata": {},
   "outputs": [
    {
     "data": {
      "text/plain": [
       "1465"
      ]
     },
     "execution_count": 3,
     "metadata": {},
     "output_type": "execute_result"
    }
   ],
   "source": [
    "df.shape[0]//2"
   ]
  },
  {
   "cell_type": "code",
   "execution_count": 4,
   "metadata": {},
   "outputs": [],
   "source": [
    "def transform_features(df):\n",
    "    return df[:df.shape[0]//2].copy()"
   ]
  },
  {
   "cell_type": "code",
   "execution_count": 5,
   "metadata": {},
   "outputs": [],
   "source": [
    "def select_features(df,features=[\"Gr Liv Area\"]):\n",
    "    train = transform_features(df)\n",
    "    return list(train[features].columns)\n",
    "    "
   ]
  },
  {
   "cell_type": "code",
   "execution_count": 6,
   "metadata": {},
   "outputs": [],
   "source": [
    "def train_and_test(df,features,target=\"SalePrice\",k=0):\n",
    "    if k==1:\n",
    "        np.random.seed(1)\n",
    "        shuffled_index = np.random.permutation(df.index)\n",
    "        df = df.loc[shuffled_index,:]\n",
    "        train = df[:df.shape[0]//2]\n",
    "        test = df[df.shape[0]//2:]\n",
    "        lr = LinearRegression()\n",
    "        lr.fit(train[select_features(df,features=features)]\\\n",
    "           ,train[target])\n",
    "        predictions_test = lr.predict\\\n",
    "        (test[select_features(df,features=features)])\n",
    "        \n",
    "        rmse_test = mean_squared_error\\\n",
    "        (test[target],predictions_test)**0.5\n",
    "        \n",
    "        lr2 = LinearRegression()\n",
    "        lr2.fit(test[select_features(df,features=features)]\\\n",
    "           ,test[target])\n",
    "        predictions_train = lr2.predict\\\n",
    "        (train[select_features(df,features=features)])\n",
    "        rmse_train = mean_squared_error\\\n",
    "        (train[target],predictions_train)**0.5\n",
    "              \n",
    "        return (rmse_train + rmse_test)/2\n",
    "    \n",
    "    elif k==0:\n",
    "        train = df[:df.shape[0]//2]\n",
    "        test = df[df.shape[0]//2:]\n",
    "        lr = LinearRegression()\n",
    "        lr.fit(train[select_features(df,features=features)]\\\n",
    "           ,train[target])\n",
    "        predictions_test = lr.predict\\\n",
    "        (test[select_features(df,features=features)])\n",
    "        rmse_test = mean_squared_error\\\n",
    "        (test[target],predictions_test)**0.5\n",
    "        return rmse_test\n",
    "    \n",
    "    elif k>1:\n",
    "        lr = LinearRegression()\n",
    "        kf = KFold(k, shuffle=True,\\\n",
    "                   random_state=None)\n",
    "        mses = cross_val_score(lr,\\\n",
    "                df[features],\\\n",
    "                df[target],\\\n",
    "            scoring=make_scorer(mean_squared_error),cv=kf)\n",
    "        \n",
    "        rmses = [(abs(j))**0.5 for j in mses]\n",
    "        #print(rmses)\n",
    "        avg_rmse = np.mean(rmses)\n",
    "        return avg_rmse"
   ]
  },
  {
   "cell_type": "code",
   "execution_count": 7,
   "metadata": {},
   "outputs": [
    {
     "data": {
      "text/plain": [
       "57120.50729008638"
      ]
     },
     "execution_count": 7,
     "metadata": {},
     "output_type": "execute_result"
    }
   ],
   "source": [
    "# First testing\n",
    "train_and_test(df,features=[\"Gr Liv Area\"])"
   ]
  },
  {
   "cell_type": "code",
   "execution_count": 8,
   "metadata": {},
   "outputs": [
    {
     "name": "stdout",
     "output_type": "stream",
     "text": [
      "<class 'pandas.core.frame.DataFrame'>\n",
      "57120.50729008638\n"
     ]
    }
   ],
   "source": [
    "# Outside functions, testing the last result with \n",
    "#a sequence of delarations\n",
    "\n",
    "lr = LinearRegression()\n",
    "train = df[:df.shape[0]//2]\n",
    "test1 = df[df.shape[0]//2:]\n",
    "test = test1.copy()\n",
    "\n",
    "dic = {}\n",
    "for i,v in enumerate(test.index):\n",
    "    dic[v] = i\n",
    "test.rename(dic,axis=0,inplace=True)\n",
    "test.drop(labels=\"Order\",inplace=True,axis=1)\n",
    "\n",
    "features = select_features(df)\n",
    "lr.fit(train[features],train[\"SalePrice\"])\n",
    "pred_train = lr.predict(train[features])\n",
    "pred_test = lr.predict(test[features])\n",
    "\n",
    "df_pred1 = pd.DataFrame(data=pred_train,columns=[\"pred_train\"])\n",
    "df_pred2 = pd.DataFrame(data=pred_test,columns=[\"pred_test\"])\n",
    "lista_de_dfs = [df_pred1,train[\"SalePrice\"],df_pred2,test[\"SalePrice\"].reindex()]\n",
    "\n",
    "comparissions = pd.DataFrame()\n",
    "print(type(comparissions))\n",
    "\n",
    "for item in lista_de_dfs: \n",
    "    comparissions = pd.concat([comparissions,item],axis=1)\n",
    "    \n",
    "#print(comparissions.head())\n",
    "\n",
    "df_pred2[\"real_prices\"] = test[\"SalePrice\"]\n",
    "df_pred2[\"errors\"] = df_pred2[\"real_prices\"]-df_pred2[\"pred_test\"]\n",
    "df_pred2[\"squared_errors\"] = df_pred2[\"errors\"]**2\n",
    "print((df_pred2[\"squared_errors\"].sum()/df_pred2.shape[0])**0.5)"
   ]
  },
  {
   "cell_type": "code",
   "execution_count": 9,
   "metadata": {},
   "outputs": [
    {
     "name": "stdout",
     "output_type": "stream",
     "text": [
      "<class 'pandas.core.frame.DataFrame'>\n",
      "RangeIndex: 2930 entries, 0 to 2929\n",
      "Data columns (total 82 columns):\n",
      "Order              2930 non-null int64\n",
      "PID                2930 non-null int64\n",
      "MS SubClass        2930 non-null int64\n",
      "MS Zoning          2930 non-null object\n",
      "Lot Frontage       2440 non-null float64\n",
      "Lot Area           2930 non-null int64\n",
      "Street             2930 non-null object\n",
      "Alley              198 non-null object\n",
      "Lot Shape          2930 non-null object\n",
      "Land Contour       2930 non-null object\n",
      "Utilities          2930 non-null object\n",
      "Lot Config         2930 non-null object\n",
      "Land Slope         2930 non-null object\n",
      "Neighborhood       2930 non-null object\n",
      "Condition 1        2930 non-null object\n",
      "Condition 2        2930 non-null object\n",
      "Bldg Type          2930 non-null object\n",
      "House Style        2930 non-null object\n",
      "Overall Qual       2930 non-null int64\n",
      "Overall Cond       2930 non-null int64\n",
      "Year Built         2930 non-null int64\n",
      "Year Remod/Add     2930 non-null int64\n",
      "Roof Style         2930 non-null object\n",
      "Roof Matl          2930 non-null object\n",
      "Exterior 1st       2930 non-null object\n",
      "Exterior 2nd       2930 non-null object\n",
      "Mas Vnr Type       2907 non-null object\n",
      "Mas Vnr Area       2907 non-null float64\n",
      "Exter Qual         2930 non-null object\n",
      "Exter Cond         2930 non-null object\n",
      "Foundation         2930 non-null object\n",
      "Bsmt Qual          2850 non-null object\n",
      "Bsmt Cond          2850 non-null object\n",
      "Bsmt Exposure      2847 non-null object\n",
      "BsmtFin Type 1     2850 non-null object\n",
      "BsmtFin SF 1       2929 non-null float64\n",
      "BsmtFin Type 2     2849 non-null object\n",
      "BsmtFin SF 2       2929 non-null float64\n",
      "Bsmt Unf SF        2929 non-null float64\n",
      "Total Bsmt SF      2929 non-null float64\n",
      "Heating            2930 non-null object\n",
      "Heating QC         2930 non-null object\n",
      "Central Air        2930 non-null object\n",
      "Electrical         2929 non-null object\n",
      "1st Flr SF         2930 non-null int64\n",
      "2nd Flr SF         2930 non-null int64\n",
      "Low Qual Fin SF    2930 non-null int64\n",
      "Gr Liv Area        2930 non-null int64\n",
      "Bsmt Full Bath     2928 non-null float64\n",
      "Bsmt Half Bath     2928 non-null float64\n",
      "Full Bath          2930 non-null int64\n",
      "Half Bath          2930 non-null int64\n",
      "Bedroom AbvGr      2930 non-null int64\n",
      "Kitchen AbvGr      2930 non-null int64\n",
      "Kitchen Qual       2930 non-null object\n",
      "TotRms AbvGrd      2930 non-null int64\n",
      "Functional         2930 non-null object\n",
      "Fireplaces         2930 non-null int64\n",
      "Fireplace Qu       1508 non-null object\n",
      "Garage Type        2773 non-null object\n",
      "Garage Yr Blt      2771 non-null float64\n",
      "Garage Finish      2771 non-null object\n",
      "Garage Cars        2929 non-null float64\n",
      "Garage Area        2929 non-null float64\n",
      "Garage Qual        2771 non-null object\n",
      "Garage Cond        2771 non-null object\n",
      "Paved Drive        2930 non-null object\n",
      "Wood Deck SF       2930 non-null int64\n",
      "Open Porch SF      2930 non-null int64\n",
      "Enclosed Porch     2930 non-null int64\n",
      "3Ssn Porch         2930 non-null int64\n",
      "Screen Porch       2930 non-null int64\n",
      "Pool Area          2930 non-null int64\n",
      "Pool QC            13 non-null object\n",
      "Fence              572 non-null object\n",
      "Misc Feature       106 non-null object\n",
      "Misc Val           2930 non-null int64\n",
      "Mo Sold            2930 non-null int64\n",
      "Yr Sold            2930 non-null int64\n",
      "Sale Type          2930 non-null object\n",
      "Sale Condition     2930 non-null object\n",
      "SalePrice          2930 non-null int64\n",
      "dtypes: float64(11), int64(28), object(43)\n",
      "memory usage: 1.8+ MB\n"
     ]
    }
   ],
   "source": [
    "df.info()"
   ]
  },
  {
   "cell_type": "code",
   "execution_count": 10,
   "metadata": {},
   "outputs": [],
   "source": [
    "#gross informations about the dataset\n",
    "\n",
    "text_of_columns_info = \"\"\"\n",
    "Order;        2930; non-null ;int64 ;\n",
    "PID;     2930; non-null ;int64 ;\n",
    "MS SubClass;    2930; non-null ;int64 ;\n",
    "MS Zoning;   2930; non-null ;object;\n",
    "Lot Frontage;  2440; non-null ;float64;\n",
    "Lot Area;  2930; non-null ;int64;\n",
    "Street;  2930; non-null ;object;\n",
    "Alley;  198 ;non-null ;object;\n",
    "Lot Shape;  2930; non-null; object;\n",
    "Land Contour;  2930; non-null ;object;\n",
    "Utilities;  2930; non-null ;object;\n",
    "Lot Config;  2930; non-null ;object;\n",
    "Land Slope; 2930; non-null ;object;\n",
    "Neighborhood; 2930; non-null ;object;\n",
    "Condition 1; 2930; non-null ;object;\n",
    "Condition 2; 2930; non-null ;object;\n",
    "Bldg Type;  2930; non-null ;object;\n",
    "House Style;  2930; non-null ;object;\n",
    "Overall Qual;  2930; non-null ;int64;\n",
    "Overall Cond;  2930; non-null ;int64;\n",
    "Year Built;  2930; non-null ;int64;\n",
    "Year Remod/Add; 2930; non-null ;int64;\n",
    "Roof Style; 2930; non-null ;object;\n",
    "Roof Matl; 2930; non-null ;object;\n",
    "Exterior 1st;  2930; non-null ;object;\n",
    "Exterior 2nd;  2930; non-null ;object;\n",
    "Mas Vnr Type;  2907; non-null ;object;\n",
    "Mas Vnr Area;  2907; non-null ;float64;\n",
    "Exter Qual;  2930; non-null ;object;\n",
    "Exter Cond;  2930; non-null ;object;\n",
    "Foundation;   2930; non-null ;object;\n",
    "Bsmt Qual;   2850; non-null ;object;\n",
    "Bsmt Cond;   2850; non-null ;object;\n",
    "Bsmt Exposure;  2847; non-null ;object;\n",
    "BsmtFin Type 1;  2850; non-null ;object;\n",
    "BsmtFin SF 1;   2929; non-null ;float64;\n",
    "BsmtFin Type 2;  2849; non-null ;object;\n",
    "BsmtFin SF 2;  2929; non-null ;float64;\n",
    "Bsmt Unf SF;  2929; non-null ;float64;\n",
    "Total Bsmt SF;   2929; non-null ;float64;\n",
    "Heating;   2930; non-null ;object;\n",
    "Heating QC;   2930; non-null ;object;\n",
    "Central Air;   2930; non-null ;object;\n",
    "Electrical;   2929; non-null ;object;\n",
    "1st Flr SF;   2930 ;non-null ;int64;\n",
    "2nd Flr SF;   2930; non-null ;int64;\n",
    "Low Qual Fin SF;  2930; non-null ;int64;\n",
    "Gr Liv Area;  2930; non-null ;int64;\n",
    "Bsmt Full Bath;  2928; non-null ;float64;\n",
    "Bsmt Half Bath;  2928; non-null ;float64;\n",
    "Full Bath;  2930; non-null ;int64;\n",
    "Half Bath;  2930; non-null ;int64;\n",
    "Bedroom AbvGr;  2930; non-null ;int64;\n",
    "Kitchen AbvGr;  2930; non-null ;int64;\n",
    "Kitchen Qual;  2930; non-null ;object;\n",
    "TotRms AbvGrd;  2930; non-null ;int64;\n",
    "Functional;  2930; non-null ;object;\n",
    "Fireplaces;  2930; non-null ;int64;\n",
    "Fireplace Qu;  1508; non-null ;object;\n",
    "Garage Type;  2773; non-null ;object;\n",
    "Garage Yr Blt; 2771; non-null ;float64;\n",
    "Garage Finish;  2771; non-null ;object;\n",
    "Garage Cars;  2929; non-null ;float64;\n",
    "Garage Area;  2929; non-null ;float64;\n",
    "Garage Qual;  2771; non-null ;object;\n",
    "Garage Cond;  2771; non-null ;object;\n",
    "Paved Drive;  2930; non-null ;object;\n",
    "Wood Deck SF;  2930; non-null ;int64;\n",
    "Open Porch SF;  2930; non-null ;int64;\n",
    "Enclosed Porch;  2930; non-null ;int64;\n",
    "3Ssn Porch;  2930; non-null ;int64;\n",
    "Screen Porch;  2930; non-null ;int64;\n",
    "Pool Area;  2930; non-null ;int64;\n",
    "Pool QC;  13; non-null ;object;\n",
    "Fence;  572; non-null ;object;\n",
    "Misc Feature;  106; non-null ;object;\n",
    "Misc Val;  2930; non-null ;int64;\n",
    "Mo Sold;  2930 ;non-null ;int64;\n",
    "Yr Sold;  2930; non-null ;int64;\n",
    "Sale Type;  2930; non-null ;object;\n",
    "Sale Condition;  2930; non-null ;object;\n",
    "SalePrice;  2930; non-null ;int64\"\"\""
   ]
  },
  {
   "cell_type": "code",
   "execution_count": 12,
   "metadata": {},
   "outputs": [
    {
     "data": {
      "text/plain": [
       "['\\nOrder',\n",
       " '        2930',\n",
       " ' non-null ',\n",
       " 'int64 ',\n",
       " '\\nPID',\n",
       " '     2930',\n",
       " ' non-null ',\n",
       " 'int64 ',\n",
       " '\\nMS SubClass',\n",
       " '    2930',\n",
       " ' non-null ',\n",
       " 'int64 ',\n",
       " '\\nMS Zoning',\n",
       " '   2930',\n",
       " ' non-null ',\n",
       " 'object',\n",
       " '\\nLot Frontage',\n",
       " '  2440',\n",
       " ' non-null ',\n",
       " 'float64',\n",
       " '\\nLot Area',\n",
       " '  2930',\n",
       " ' non-null ',\n",
       " 'int64',\n",
       " '\\nStreet',\n",
       " '  2930',\n",
       " ' non-null ',\n",
       " 'object',\n",
       " '\\nAlley',\n",
       " '  198 ']"
      ]
     },
     "execution_count": 12,
     "metadata": {},
     "output_type": "execute_result"
    }
   ],
   "source": [
    "cols_info = text_of_columns_info.split(\";\")\n",
    "cols_info[:30]"
   ]
  },
  {
   "cell_type": "code",
   "execution_count": 13,
   "metadata": {},
   "outputs": [
    {
     "data": {
      "text/html": [
       "<div>\n",
       "<style scoped>\n",
       "    .dataframe tbody tr th:only-of-type {\n",
       "        vertical-align: middle;\n",
       "    }\n",
       "\n",
       "    .dataframe tbody tr th {\n",
       "        vertical-align: top;\n",
       "    }\n",
       "\n",
       "    .dataframe thead th {\n",
       "        text-align: right;\n",
       "    }\n",
       "</style>\n",
       "<table border=\"1\" class=\"dataframe\">\n",
       "  <thead>\n",
       "    <tr style=\"text-align: right;\">\n",
       "      <th></th>\n",
       "      <th>column</th>\n",
       "      <th>non_null_rows</th>\n",
       "      <th>null/non_null</th>\n",
       "      <th>dtype</th>\n",
       "    </tr>\n",
       "  </thead>\n",
       "  <tbody>\n",
       "    <tr>\n",
       "      <th>0</th>\n",
       "      <td>Order</td>\n",
       "      <td>2930.0</td>\n",
       "      <td>non-null</td>\n",
       "      <td>int64</td>\n",
       "    </tr>\n",
       "    <tr>\n",
       "      <th>1</th>\n",
       "      <td>PID</td>\n",
       "      <td>2930.0</td>\n",
       "      <td>non-null</td>\n",
       "      <td>int64</td>\n",
       "    </tr>\n",
       "    <tr>\n",
       "      <th>2</th>\n",
       "      <td>MS SubClass</td>\n",
       "      <td>2930.0</td>\n",
       "      <td>non-null</td>\n",
       "      <td>int64</td>\n",
       "    </tr>\n",
       "    <tr>\n",
       "      <th>3</th>\n",
       "      <td>MS Zoning</td>\n",
       "      <td>2930.0</td>\n",
       "      <td>non-null</td>\n",
       "      <td>object</td>\n",
       "    </tr>\n",
       "    <tr>\n",
       "      <th>4</th>\n",
       "      <td>Lot Frontage</td>\n",
       "      <td>2440.0</td>\n",
       "      <td>non-null</td>\n",
       "      <td>float64</td>\n",
       "    </tr>\n",
       "  </tbody>\n",
       "</table>\n",
       "</div>"
      ],
      "text/plain": [
       "         column  non_null_rows null/non_null    dtype\n",
       "0         Order         2930.0      non-null    int64\n",
       "1           PID         2930.0      non-null    int64\n",
       "2   MS SubClass         2930.0      non-null    int64\n",
       "3     MS Zoning         2930.0      non-null   object\n",
       "4  Lot Frontage         2440.0      non-null  float64"
      ]
     },
     "execution_count": 13,
     "metadata": {},
     "output_type": "execute_result"
    }
   ],
   "source": [
    "# CLEANING DATA INFO \n",
    "\n",
    "new_info = []\n",
    "provisory_list = []\n",
    "cont = 0\n",
    "for item in cols_info:\n",
    "    cont += 1\n",
    "    provisory_list.append(item)\n",
    "    if cont == 4:\n",
    "        provisory_list[0] = provisory_list[0].replace(\"\\n\",\"\")\n",
    "        provisory_list[1] = int(provisory_list[1].replace(\" \",\"\"))\n",
    "        provisory_list[2] = provisory_list[2].replace(\" \",\"\")\n",
    "        provisory_list[3] = provisory_list[3].replace(\" \",\"\")\n",
    "        new_info.append(provisory_list)\n",
    "        cont=0\n",
    "        provisory_list = []\n",
    "#print(new_info)\n",
    "\n",
    "matrix = np.array(new_info)\n",
    "#print(matrix)\n",
    "columns = [\"column\",\"non_null_rows\",\"null/non_null\",\"dtype\"]\n",
    "features_info = pd.DataFrame(data=matrix,columns=columns)\n",
    "features_info[\"non_null_rows\"] = \\\n",
    "features_info[\"non_null_rows\"].astype(float)\n",
    "\n",
    "features_info.head()"
   ]
  },
  {
   "cell_type": "code",
   "execution_count": 14,
   "metadata": {},
   "outputs": [
    {
     "data": {
      "text/plain": [
       "dtype('float64')"
      ]
     },
     "execution_count": 14,
     "metadata": {},
     "output_type": "execute_result"
    }
   ],
   "source": [
    "features_info[\"non_null_rows\"].dtypes"
   ]
  },
  {
   "cell_type": "code",
   "execution_count": 15,
   "metadata": {},
   "outputs": [
    {
     "data": {
      "text/plain": [
       "(39, 4)"
      ]
     },
     "execution_count": 15,
     "metadata": {},
     "output_type": "execute_result"
    }
   ],
   "source": [
    "numeric_columns = features_info.loc\\\n",
    "[(features_info[\"dtype\"]==\"float64\")|\\\n",
    "(features_info[\"dtype\"]==\"int64\")]\n",
    "\n",
    "numeric_columns.shape"
   ]
  },
  {
   "cell_type": "code",
   "execution_count": 16,
   "metadata": {},
   "outputs": [
    {
     "data": {
      "text/plain": [
       "39"
      ]
     },
     "execution_count": 16,
     "metadata": {},
     "output_type": "execute_result"
    }
   ],
   "source": [
    "numeric_columns_names = numeric_columns[\"column\"].tolist()\n",
    "len(numeric_columns_names)"
   ]
  },
  {
   "cell_type": "code",
   "execution_count": 17,
   "metadata": {},
   "outputs": [
    {
     "data": {
      "text/html": [
       "<div>\n",
       "<style scoped>\n",
       "    .dataframe tbody tr th:only-of-type {\n",
       "        vertical-align: middle;\n",
       "    }\n",
       "\n",
       "    .dataframe tbody tr th {\n",
       "        vertical-align: top;\n",
       "    }\n",
       "\n",
       "    .dataframe thead th {\n",
       "        text-align: right;\n",
       "    }\n",
       "</style>\n",
       "<table border=\"1\" class=\"dataframe\">\n",
       "  <thead>\n",
       "    <tr style=\"text-align: right;\">\n",
       "      <th></th>\n",
       "      <th>column</th>\n",
       "      <th>non_null_rows</th>\n",
       "      <th>null/non_null</th>\n",
       "      <th>dtype</th>\n",
       "    </tr>\n",
       "  </thead>\n",
       "  <tbody>\n",
       "    <tr>\n",
       "      <th>4</th>\n",
       "      <td>Lot Frontage</td>\n",
       "      <td>2440.0</td>\n",
       "      <td>non-null</td>\n",
       "      <td>float64</td>\n",
       "    </tr>\n",
       "    <tr>\n",
       "      <th>60</th>\n",
       "      <td>Garage Yr Blt</td>\n",
       "      <td>2771.0</td>\n",
       "      <td>non-null</td>\n",
       "      <td>float64</td>\n",
       "    </tr>\n",
       "    <tr>\n",
       "      <th>27</th>\n",
       "      <td>Mas Vnr Area</td>\n",
       "      <td>2907.0</td>\n",
       "      <td>non-null</td>\n",
       "      <td>float64</td>\n",
       "    </tr>\n",
       "    <tr>\n",
       "      <th>48</th>\n",
       "      <td>Bsmt Full Bath</td>\n",
       "      <td>2928.0</td>\n",
       "      <td>non-null</td>\n",
       "      <td>float64</td>\n",
       "    </tr>\n",
       "    <tr>\n",
       "      <th>49</th>\n",
       "      <td>Bsmt Half Bath</td>\n",
       "      <td>2928.0</td>\n",
       "      <td>non-null</td>\n",
       "      <td>float64</td>\n",
       "    </tr>\n",
       "    <tr>\n",
       "      <th>35</th>\n",
       "      <td>BsmtFin SF 1</td>\n",
       "      <td>2929.0</td>\n",
       "      <td>non-null</td>\n",
       "      <td>float64</td>\n",
       "    </tr>\n",
       "    <tr>\n",
       "      <th>37</th>\n",
       "      <td>BsmtFin SF 2</td>\n",
       "      <td>2929.0</td>\n",
       "      <td>non-null</td>\n",
       "      <td>float64</td>\n",
       "    </tr>\n",
       "    <tr>\n",
       "      <th>38</th>\n",
       "      <td>Bsmt Unf SF</td>\n",
       "      <td>2929.0</td>\n",
       "      <td>non-null</td>\n",
       "      <td>float64</td>\n",
       "    </tr>\n",
       "    <tr>\n",
       "      <th>39</th>\n",
       "      <td>Total Bsmt SF</td>\n",
       "      <td>2929.0</td>\n",
       "      <td>non-null</td>\n",
       "      <td>float64</td>\n",
       "    </tr>\n",
       "    <tr>\n",
       "      <th>62</th>\n",
       "      <td>Garage Cars</td>\n",
       "      <td>2929.0</td>\n",
       "      <td>non-null</td>\n",
       "      <td>float64</td>\n",
       "    </tr>\n",
       "    <tr>\n",
       "      <th>63</th>\n",
       "      <td>Garage Area</td>\n",
       "      <td>2929.0</td>\n",
       "      <td>non-null</td>\n",
       "      <td>float64</td>\n",
       "    </tr>\n",
       "  </tbody>\n",
       "</table>\n",
       "</div>"
      ],
      "text/plain": [
       "            column  non_null_rows null/non_null    dtype\n",
       "4     Lot Frontage         2440.0      non-null  float64\n",
       "60   Garage Yr Blt         2771.0      non-null  float64\n",
       "27    Mas Vnr Area         2907.0      non-null  float64\n",
       "48  Bsmt Full Bath         2928.0      non-null  float64\n",
       "49  Bsmt Half Bath         2928.0      non-null  float64\n",
       "35    BsmtFin SF 1         2929.0      non-null  float64\n",
       "37    BsmtFin SF 2         2929.0      non-null  float64\n",
       "38     Bsmt Unf SF         2929.0      non-null  float64\n",
       "39   Total Bsmt SF         2929.0      non-null  float64\n",
       "62     Garage Cars         2929.0      non-null  float64\n",
       "63     Garage Area         2929.0      non-null  float64"
      ]
     },
     "execution_count": 17,
     "metadata": {},
     "output_type": "execute_result"
    }
   ],
   "source": [
    "numeric_columns.loc[numeric_columns[\"non_null_rows\"]<2930]\\\n",
    ".sort_values(by=\"non_null_rows\",ascending=True)"
   ]
  },
  {
   "cell_type": "markdown",
   "metadata": {},
   "source": [
    "#### Numeric_cols treatment:\n",
    "\n",
    "#### Columns with null values:\n",
    "- Lot Frontage ----> 2440 non-null  ( < 16% of null values)\n",
    "- Garage Yr Blt ----> 2771.0 non-null( < 6% of null values)\n",
    "- Mas Vnr Area ----> 2907.0 non-null( < 0.8% of null values)\n",
    "- Bsmt Full Bath ----> 2928.0 non-null( < 0.07% of null values)\n",
    "- Bsmt Half Bath ----> 2928.0 non-null (< 0.07% of null values)\n",
    "\n",
    "<i> Since the less value in the \"non-null value\" column is 2440 (this is more than an 83% of non-null values) i'll fill all null values with the mean of the column. \n"
   ]
  },
  {
   "cell_type": "code",
   "execution_count": 18,
   "metadata": {},
   "outputs": [],
   "source": [
    "df[numeric_columns_names] = \\\n",
    "df[numeric_columns_names].fillna(\\\n",
    "            df[numeric_columns_names].mean())"
   ]
  },
  {
   "cell_type": "code",
   "execution_count": 19,
   "metadata": {},
   "outputs": [
    {
     "name": "stdout",
     "output_type": "stream",
     "text": [
      "<class 'pandas.core.frame.DataFrame'>\n",
      "RangeIndex: 2930 entries, 0 to 2929\n",
      "Data columns (total 39 columns):\n",
      "Order              2930 non-null int64\n",
      "PID                2930 non-null int64\n",
      "MS SubClass        2930 non-null int64\n",
      "Lot Frontage       2930 non-null float64\n",
      "Lot Area           2930 non-null int64\n",
      "Overall Qual       2930 non-null int64\n",
      "Overall Cond       2930 non-null int64\n",
      "Year Built         2930 non-null int64\n",
      "Year Remod/Add     2930 non-null int64\n",
      "Mas Vnr Area       2930 non-null float64\n",
      "BsmtFin SF 1       2930 non-null float64\n",
      "BsmtFin SF 2       2930 non-null float64\n",
      "Bsmt Unf SF        2930 non-null float64\n",
      "Total Bsmt SF      2930 non-null float64\n",
      "1st Flr SF         2930 non-null int64\n",
      "2nd Flr SF         2930 non-null int64\n",
      "Low Qual Fin SF    2930 non-null int64\n",
      "Gr Liv Area        2930 non-null int64\n",
      "Bsmt Full Bath     2930 non-null float64\n",
      "Bsmt Half Bath     2930 non-null float64\n",
      "Full Bath          2930 non-null int64\n",
      "Half Bath          2930 non-null int64\n",
      "Bedroom AbvGr      2930 non-null int64\n",
      "Kitchen AbvGr      2930 non-null int64\n",
      "TotRms AbvGrd      2930 non-null int64\n",
      "Fireplaces         2930 non-null int64\n",
      "Garage Yr Blt      2930 non-null float64\n",
      "Garage Cars        2930 non-null float64\n",
      "Garage Area        2930 non-null float64\n",
      "Wood Deck SF       2930 non-null int64\n",
      "Open Porch SF      2930 non-null int64\n",
      "Enclosed Porch     2930 non-null int64\n",
      "3Ssn Porch         2930 non-null int64\n",
      "Screen Porch       2930 non-null int64\n",
      "Pool Area          2930 non-null int64\n",
      "Misc Val           2930 non-null int64\n",
      "Mo Sold            2930 non-null int64\n",
      "Yr Sold            2930 non-null int64\n",
      "SalePrice          2930 non-null int64\n",
      "dtypes: float64(11), int64(28)\n",
      "memory usage: 892.8 KB\n"
     ]
    }
   ],
   "source": [
    "# Checking if now all the numeric columns in df are not null\n",
    "df[numeric_columns_names].info()"
   ]
  },
  {
   "cell_type": "code",
   "execution_count": 20,
   "metadata": {},
   "outputs": [
    {
     "data": {
      "text/plain": [
       "43"
      ]
     },
     "execution_count": 20,
     "metadata": {},
     "output_type": "execute_result"
    }
   ],
   "source": [
    "not_numeric_columns = features_info.loc\\\n",
    "[(features_info[\"dtype\"]!=\"float64\")&\\\n",
    "(features_info[\"dtype\"]!=\"int64\")]\n",
    "\n",
    "not_numeric_columns_names = not_numeric_columns[\"column\"].tolist()\n",
    "len(not_numeric_columns_names)"
   ]
  },
  {
   "cell_type": "code",
   "execution_count": 21,
   "metadata": {},
   "outputs": [
    {
     "data": {
      "text/html": [
       "<div>\n",
       "<style scoped>\n",
       "    .dataframe tbody tr th:only-of-type {\n",
       "        vertical-align: middle;\n",
       "    }\n",
       "\n",
       "    .dataframe tbody tr th {\n",
       "        vertical-align: top;\n",
       "    }\n",
       "\n",
       "    .dataframe thead th {\n",
       "        text-align: right;\n",
       "    }\n",
       "</style>\n",
       "<table border=\"1\" class=\"dataframe\">\n",
       "  <thead>\n",
       "    <tr style=\"text-align: right;\">\n",
       "      <th></th>\n",
       "      <th>column</th>\n",
       "      <th>non_null_rows</th>\n",
       "      <th>null/non_null</th>\n",
       "      <th>dtype</th>\n",
       "    </tr>\n",
       "  </thead>\n",
       "  <tbody>\n",
       "    <tr>\n",
       "      <th>73</th>\n",
       "      <td>Pool QC</td>\n",
       "      <td>13.0</td>\n",
       "      <td>non-null</td>\n",
       "      <td>object</td>\n",
       "    </tr>\n",
       "    <tr>\n",
       "      <th>75</th>\n",
       "      <td>Misc Feature</td>\n",
       "      <td>106.0</td>\n",
       "      <td>non-null</td>\n",
       "      <td>object</td>\n",
       "    </tr>\n",
       "    <tr>\n",
       "      <th>7</th>\n",
       "      <td>Alley</td>\n",
       "      <td>198.0</td>\n",
       "      <td>non-null</td>\n",
       "      <td>object</td>\n",
       "    </tr>\n",
       "    <tr>\n",
       "      <th>74</th>\n",
       "      <td>Fence</td>\n",
       "      <td>572.0</td>\n",
       "      <td>non-null</td>\n",
       "      <td>object</td>\n",
       "    </tr>\n",
       "    <tr>\n",
       "      <th>58</th>\n",
       "      <td>Fireplace Qu</td>\n",
       "      <td>1508.0</td>\n",
       "      <td>non-null</td>\n",
       "      <td>object</td>\n",
       "    </tr>\n",
       "    <tr>\n",
       "      <th>61</th>\n",
       "      <td>Garage Finish</td>\n",
       "      <td>2771.0</td>\n",
       "      <td>non-null</td>\n",
       "      <td>object</td>\n",
       "    </tr>\n",
       "    <tr>\n",
       "      <th>64</th>\n",
       "      <td>Garage Qual</td>\n",
       "      <td>2771.0</td>\n",
       "      <td>non-null</td>\n",
       "      <td>object</td>\n",
       "    </tr>\n",
       "    <tr>\n",
       "      <th>65</th>\n",
       "      <td>Garage Cond</td>\n",
       "      <td>2771.0</td>\n",
       "      <td>non-null</td>\n",
       "      <td>object</td>\n",
       "    </tr>\n",
       "    <tr>\n",
       "      <th>59</th>\n",
       "      <td>Garage Type</td>\n",
       "      <td>2773.0</td>\n",
       "      <td>non-null</td>\n",
       "      <td>object</td>\n",
       "    </tr>\n",
       "    <tr>\n",
       "      <th>33</th>\n",
       "      <td>Bsmt Exposure</td>\n",
       "      <td>2847.0</td>\n",
       "      <td>non-null</td>\n",
       "      <td>object</td>\n",
       "    </tr>\n",
       "    <tr>\n",
       "      <th>36</th>\n",
       "      <td>BsmtFin Type 2</td>\n",
       "      <td>2849.0</td>\n",
       "      <td>non-null</td>\n",
       "      <td>object</td>\n",
       "    </tr>\n",
       "    <tr>\n",
       "      <th>31</th>\n",
       "      <td>Bsmt Qual</td>\n",
       "      <td>2850.0</td>\n",
       "      <td>non-null</td>\n",
       "      <td>object</td>\n",
       "    </tr>\n",
       "    <tr>\n",
       "      <th>32</th>\n",
       "      <td>Bsmt Cond</td>\n",
       "      <td>2850.0</td>\n",
       "      <td>non-null</td>\n",
       "      <td>object</td>\n",
       "    </tr>\n",
       "    <tr>\n",
       "      <th>34</th>\n",
       "      <td>BsmtFin Type 1</td>\n",
       "      <td>2850.0</td>\n",
       "      <td>non-null</td>\n",
       "      <td>object</td>\n",
       "    </tr>\n",
       "    <tr>\n",
       "      <th>26</th>\n",
       "      <td>Mas Vnr Type</td>\n",
       "      <td>2907.0</td>\n",
       "      <td>non-null</td>\n",
       "      <td>object</td>\n",
       "    </tr>\n",
       "    <tr>\n",
       "      <th>43</th>\n",
       "      <td>Electrical</td>\n",
       "      <td>2929.0</td>\n",
       "      <td>non-null</td>\n",
       "      <td>object</td>\n",
       "    </tr>\n",
       "  </tbody>\n",
       "</table>\n",
       "</div>"
      ],
      "text/plain": [
       "            column  non_null_rows null/non_null   dtype\n",
       "73         Pool QC           13.0      non-null  object\n",
       "75    Misc Feature          106.0      non-null  object\n",
       "7            Alley          198.0      non-null  object\n",
       "74           Fence          572.0      non-null  object\n",
       "58    Fireplace Qu         1508.0      non-null  object\n",
       "61   Garage Finish         2771.0      non-null  object\n",
       "64     Garage Qual         2771.0      non-null  object\n",
       "65     Garage Cond         2771.0      non-null  object\n",
       "59     Garage Type         2773.0      non-null  object\n",
       "33   Bsmt Exposure         2847.0      non-null  object\n",
       "36  BsmtFin Type 2         2849.0      non-null  object\n",
       "31       Bsmt Qual         2850.0      non-null  object\n",
       "32       Bsmt Cond         2850.0      non-null  object\n",
       "34  BsmtFin Type 1         2850.0      non-null  object\n",
       "26    Mas Vnr Type         2907.0      non-null  object\n",
       "43      Electrical         2929.0      non-null  object"
      ]
     },
     "execution_count": 21,
     "metadata": {},
     "output_type": "execute_result"
    }
   ],
   "source": [
    "not_numeric_columns.loc[not_numeric_columns[\"non_null_rows\"]<2930]\\\n",
    ".sort_values(by=\"non_null_rows\",ascending=True)"
   ]
  },
  {
   "cell_type": "markdown",
   "metadata": {
    "collapsed": true
   },
   "source": [
    "#### Non numerical columns, non-null values:\n",
    "\n",
    "Columns with null values:\n",
    "- Pool QC ----> 13 non-null ( > 99% of null values)\n",
    "- Misc Feature ----> 106 non-null ( > 96% of null values)\n",
    "- Alley ----> 198 non-null ( > 93% of null values)\n",
    "- Fence ----> 572 non-null (> 80% of null values)\n",
    "- Fireplace Qu ----> 1508 non-null (~ 50% of null values)\n",
    "\n",
    "All these columns must be eliminated."
   ]
  },
  {
   "cell_type": "code",
   "execution_count": 22,
   "metadata": {},
   "outputs": [],
   "source": [
    "drop_columns = [\"Pool QC\",\"Misc Feature\",\\\n",
    "                \"Alley\",\"Fence\",\"Fireplace Qu\"]\n",
    "df.drop(drop_columns,inplace=True,axis=1)"
   ]
  },
  {
   "cell_type": "markdown",
   "metadata": {},
   "source": [
    "### 2. Selecting features\n",
    "\n",
    "The data has 82 columns which include 23 nominal, 23 ordinal, 14 discrete, and 20 continuous variables (and 2 additional observation identifiers)."
   ]
  },
  {
   "cell_type": "markdown",
   "metadata": {},
   "source": [
    "### Interesting columns:\n",
    "\n",
    "##### Interesting nominal columns: \n",
    "[\"Foundation\",\"MS Zoning\",\"Neighborhood\",\"Exterior 1st\",\"Roof Matl\"]\n",
    "\n",
    "- Foundation: 6 unique values\n",
    "- MS Zoning: 8 unique values\n",
    "- Neighborhood: 28 unique values\n",
    "- Exterior 1st: 16 unique values\n",
    "- Roof Matl: 8 unique values\n",
    "\n",
    "##### Interesting ordinal columns: \n",
    "[\"Overall Qual\",\"Overall Cond\",\"Heating QC\", \"Electrical\",\"Utilities\"]\n",
    "\n",
    "1. Overall Qual {\"Very Excellent\":10,\"Excellent\":9,\"Very Good\":8,\"Good\":7,\"Above Average\":6,\"Average\":5,\"Below Average\":4,\"Fair\":3,\"Poor\":2,\"Very Poor\":1} \n",
    "2. Overall Cond {\"Very Excellent\":10,\"Excellent\":9,\"Very Good\":8,\"Good\":7,\"Above Average\":6,\"Average\":5,\"Below Average\":4,\"Fair\":3,\"Poor\":2,\"Very Poor\":1}\n",
    "3. HeatingQC {\"Po\":1,\"Fa\":2,\"TA\":3,\"Gd\":4,\"Ex\":5}\n",
    "4. Electrical {\"Mix\":1,\"FuseP\":2,\"FuseF\":3,\"FuseA\":4,\"SBrkr\":5}\n",
    "5. Utilities {\"ELO\":1,\"NoSeWa\":2,\"NoSewr\":3,\"AllPub\":4}\n",
    "\n",
    "##### Interesting discrete columns: \n",
    "[\"Year Built\",\"Year Remod/Add\",\"Full Bath\",\"Bedroom AbvGr\",\"TotRms AbvGrd\"]\n",
    "\n",
    "\n",
    "##### Interesting continuous columns: \n",
    "all continuous = [\"Lot Frontage\",\"Lot Area\",\\\n",
    "\"Mas Vnr Area\",\"BsmtFin SF 1\",\"BsmtFin SF 2\",\"Bsmt Unf SF\",\\\n",
    "\"Total Bsmt SF\",\"1st Flr SF\",\"2nd Flr SF\",\"Low Qual Fin SF\",\\\n",
    "\"Gr Liv Area\",\"Garage Area\",\"Wood Deck SF\",\\\n",
    "\"Open Porch SF\",\"Enclosed Porch\",\"3-Ssn Porch\",\"Screen Porch\",\\\n",
    "\"Pool Area\",\"Misc Val\"]\n",
    "\n",
    "interestings ones = [\"Lot Frontage\",\"Lot Area\",\"Total Bsmt SF\",\"Gr Liv Area\"]"
   ]
  },
  {
   "cell_type": "code",
   "execution_count": 23,
   "metadata": {},
   "outputs": [],
   "source": [
    "nominal_columns = [\"Foundation\",\"MS Zoning\",\\\n",
    "\"Neighborhood\",\"Exterior 1st\",\"Roof Matl\"]\n",
    "\n",
    "ordinal_columns = [\"Overall Qual\",\"Overall Cond\",\\\n",
    "                   \"Heating QC\",\\\n",
    "                   \"Electrical\",\"Utilities\"]\n",
    "\n",
    "discrete_columns = [\"Year Built\",\"Year Remod/Add\",\\\n",
    "                    \"Full Bath\",\"Bedroom AbvGr\",\"TotRms AbvGrd\"]\n",
    "\n",
    "continuous_columns = [\"Lot Frontage\",\"Lot Area\",\\\n",
    "                      \"Total Bsmt SF\",\"Gr Liv Area\"]"
   ]
  },
  {
   "cell_type": "code",
   "execution_count": 24,
   "metadata": {},
   "outputs": [
    {
     "name": "stdout",
     "output_type": "stream",
     "text": [
      "<class 'pandas.core.frame.DataFrame'>\n",
      "RangeIndex: 2930 entries, 0 to 2929\n",
      "Data columns (total 19 columns):\n",
      "Foundation        2930 non-null object\n",
      "MS Zoning         2930 non-null object\n",
      "Neighborhood      2930 non-null object\n",
      "Exterior 1st      2930 non-null object\n",
      "Roof Matl         2930 non-null object\n",
      "Overall Qual      2930 non-null int64\n",
      "Overall Cond      2930 non-null int64\n",
      "Heating QC        2930 non-null object\n",
      "Electrical        2929 non-null object\n",
      "Utilities         2930 non-null object\n",
      "Year Built        2930 non-null int64\n",
      "Year Remod/Add    2930 non-null int64\n",
      "Full Bath         2930 non-null int64\n",
      "Bedroom AbvGr     2930 non-null int64\n",
      "TotRms AbvGrd     2930 non-null int64\n",
      "Lot Frontage      2930 non-null float64\n",
      "Lot Area          2930 non-null int64\n",
      "Total Bsmt SF     2930 non-null float64\n",
      "Gr Liv Area       2930 non-null int64\n",
      "dtypes: float64(2), int64(9), object(8)\n",
      "memory usage: 435.0+ KB\n"
     ]
    }
   ],
   "source": [
    "interesting_features = nominal_columns+\\\n",
    "ordinal_columns+discrete_columns+\\\n",
    "continuous_columns\n",
    "\n",
    "df[interesting_features].info()"
   ]
  },
  {
   "cell_type": "markdown",
   "metadata": {},
   "source": [
    "\n",
    "#### Only one null value remains in the \"Electric\" column. We are going to eliminate the entire row corresponding to that value."
   ]
  },
  {
   "cell_type": "code",
   "execution_count": 25,
   "metadata": {},
   "outputs": [],
   "source": [
    "df.loc[df[\"Electrical\"].isnull()]\n",
    "df.drop([1577],inplace=True,axis=0)"
   ]
  },
  {
   "cell_type": "code",
   "execution_count": 26,
   "metadata": {},
   "outputs": [
    {
     "name": "stdout",
     "output_type": "stream",
     "text": [
      "<class 'pandas.core.frame.DataFrame'>\n",
      "Int64Index: 2929 entries, 0 to 2929\n",
      "Data columns (total 19 columns):\n",
      "Foundation        2929 non-null object\n",
      "MS Zoning         2929 non-null object\n",
      "Neighborhood      2929 non-null object\n",
      "Exterior 1st      2929 non-null object\n",
      "Roof Matl         2929 non-null object\n",
      "Overall Qual      2929 non-null int64\n",
      "Overall Cond      2929 non-null int64\n",
      "Heating QC        2929 non-null object\n",
      "Electrical        2929 non-null object\n",
      "Utilities         2929 non-null object\n",
      "Year Built        2929 non-null int64\n",
      "Year Remod/Add    2929 non-null int64\n",
      "Full Bath         2929 non-null int64\n",
      "Bedroom AbvGr     2929 non-null int64\n",
      "TotRms AbvGrd     2929 non-null int64\n",
      "Lot Frontage      2929 non-null float64\n",
      "Lot Area          2929 non-null int64\n",
      "Total Bsmt SF     2929 non-null float64\n",
      "Gr Liv Area       2929 non-null int64\n",
      "dtypes: float64(2), int64(9), object(8)\n",
      "memory usage: 457.7+ KB\n"
     ]
    }
   ],
   "source": [
    "df[interesting_features].info()"
   ]
  },
  {
   "cell_type": "markdown",
   "metadata": {},
   "source": [
    "### Now we have all the interesting columns without null values.\n",
    "\n",
    "Then, we will perform a numerical translation in the ordinal columns. (\"Overall Cond\" and \"Overall Qual\" already have numerical ranks 1-10)."
   ]
  },
  {
   "cell_type": "code",
   "execution_count": 27,
   "metadata": {},
   "outputs": [],
   "source": [
    "HeatingQC_dict =  {\"Po\":1,\"Fa\":2,\"TA\":3,\"Gd\":4,\"Ex\":5}\n",
    "\n",
    "Electrical_dict =  {\"Mix\":1,\"FuseP\":2,\"FuseF\":3,\\\n",
    "                       \"FuseA\":4,\"SBrkr\":5}\n",
    "Utilities_dict =  {\"ELO\":1,\"NoSeWa\":2,\"NoSewr\":3,\\\n",
    "                   \"AllPub\":4}"
   ]
  },
  {
   "cell_type": "code",
   "execution_count": 28,
   "metadata": {},
   "outputs": [],
   "source": [
    "df[\"Heating QC\"] = df[\"Heating QC\"].map(HeatingQC_dict)\n",
    "df[\"Electrical\"] = df[\"Electrical\"].map(Electrical_dict)\n",
    "df[\"Utilities\"] = df[\"Utilities\"].map(Utilities_dict)"
   ]
  },
  {
   "cell_type": "code",
   "execution_count": 29,
   "metadata": {},
   "outputs": [
    {
     "data": {
      "text/plain": [
       "42413.36369600136"
      ]
     },
     "execution_count": 29,
     "metadata": {},
     "output_type": "execute_result"
    }
   ],
   "source": [
    "features_prueba1 = continuous_columns+ordinal_columns\n",
    "train_and_test(df,features=features_prueba1)"
   ]
  },
  {
   "cell_type": "code",
   "execution_count": 30,
   "metadata": {},
   "outputs": [
    {
     "data": {
      "text/plain": [
       "54408.57952963582"
      ]
     },
     "execution_count": 30,
     "metadata": {},
     "output_type": "execute_result"
    }
   ],
   "source": [
    "features_prueba2 = continuous_columns\n",
    "train_and_test(df,features=features_prueba2)"
   ]
  },
  {
   "cell_type": "code",
   "execution_count": 31,
   "metadata": {},
   "outputs": [
    {
     "data": {
      "text/plain": [
       "49230.056099983594"
      ]
     },
     "execution_count": 31,
     "metadata": {},
     "output_type": "execute_result"
    }
   ],
   "source": [
    "features_prueba3 = ordinal_columns\n",
    "train_and_test(df,features=features_prueba3)"
   ]
  },
  {
   "cell_type": "code",
   "execution_count": 32,
   "metadata": {},
   "outputs": [
    {
     "data": {
      "text/plain": [
       "0    129.830918\n",
       "1    117.187500\n",
       "2    129.420617\n",
       "3    115.639810\n",
       "4    116.574586\n",
       "Name: Price_per_grlivarea, dtype: float64"
      ]
     },
     "execution_count": 32,
     "metadata": {},
     "output_type": "execute_result"
    }
   ],
   "source": [
    "# CREATING A COLUMN WITH YEARS OF ANTIGUATY\n",
    "df[\"Antigüedad\"] = df[\"Year Remod/Add\"] - df[\"Year Built\"]\n",
    "\n",
    "# CREATING A COLUMN WITH Price per Gr Liv Area\n",
    "df[\"Price_per_grlivarea\"] = \\\n",
    "df[\"SalePrice\"]/df[\"Gr Liv Area\"]\n",
    "\n",
    "df[\"Price_per_grlivarea\"].head()"
   ]
  },
  {
   "cell_type": "code",
   "execution_count": 37,
   "metadata": {},
   "outputs": [
    {
     "data": {
      "image/png": "[encoded data removed]",
      "text/plain": [
       "<matplotlib.figure.Figure at 0x7f77df642fd0>"
      ]
     },
     "metadata": {},
     "output_type": "display_data"
    }
   ],
   "source": [
    "\n",
    "# MEASURING CORRELATIONS OF ORDINAL + CONTINUOUS (NUMERICAL FEATURES,\n",
    "# (INCLUDING THE TARGET COLUMN \"SalePrice\")\n",
    "datos = train[features_prueba1+[\"SalePrice\"]].corr()\n",
    "sns.heatmap(datos)\n",
    "plt.show()"
   ]
  },
  {
   "cell_type": "markdown",
   "metadata": {
    "collapsed": true
   },
   "source": [
    "### Numerical features well correlated with \"SalePrice\" column:\n",
    "- Total Bsmt SF: total basement square feet\n",
    "- Gr Liv Area: Above grade living area (in square feet)\n",
    "- Overall Qual: Overall quality. "
   ]
  },
  {
   "cell_type": "code",
   "execution_count": 38,
   "metadata": {},
   "outputs": [
    {
     "name": "stdout",
     "output_type": "stream",
     "text": [
      "               Total Bsmt SF  SalePrice\n",
      "Total Bsmt SF        1.00000    0.63227\n",
      "SalePrice            0.63227    1.00000              Gr Liv Area  SalePrice\n",
      "Gr Liv Area     1.000000   0.706777\n",
      "SalePrice       0.706777   1.000000               Overall Qual  SalePrice\n",
      "Overall Qual      1.000000   0.799304\n",
      "SalePrice         0.799304   1.000000\n"
     ]
    }
   ],
   "source": [
    "total_bsmt_sf_corr = df[[\"Total Bsmt SF\",\"SalePrice\"]].corr()\n",
    "gr_liv_area_corr = df[[\"Gr Liv Area\",\"SalePrice\"]].corr()\n",
    "ov_qual_corr = df[[\"Overall Qual\",\"SalePrice\"]].corr()\n",
    "\n",
    "print(total_bsmt_sf_corr,gr_liv_area_corr,ov_qual_corr)"
   ]
  },
  {
   "cell_type": "code",
   "execution_count": 39,
   "metadata": {},
   "outputs": [],
   "source": [
    "strong_corr_numerical_features = [\"Total Bsmt SF\",\"Gr Liv Area\",\\\n",
    "                           \"Overall Qual\"]"
   ]
  },
  {
   "cell_type": "markdown",
   "metadata": {
    "collapsed": true
   },
   "source": [
    "#### Nominal columns: searching interestings columns to expand categorical data\n",
    "\n",
    "nominal_columns = [\"Foundation\",\"MS Zoning\",\\\n",
    "\"Neighborhood\",\"Exterior 1st\",\"Roof Matl\"]\n",
    "\n",
    "- Foundation: 6 unique values\n",
    "- MS Zoning: 8 unique values\n",
    "- Neighborhood: 28 unique values\n",
    "- Exterior 1st: 16 unique values\n",
    "- Roof Matl: 8 unique values"
   ]
  },
  {
   "cell_type": "code",
   "execution_count": 40,
   "metadata": {},
   "outputs": [
    {
     "name": "stdout",
     "output_type": "stream",
     "text": [
      "Foundation:  PConc     1309\n",
      "CBlock    1244\n",
      "BrkTil     311\n",
      "Slab        49\n",
      "Stone       11\n",
      "Wood         5\n",
      "Name: Foundation, dtype: int64 \n",
      "\n",
      "MS Zoning:  RL         2272\n",
      "RM          462\n",
      "FV          139\n",
      "RH           27\n",
      "C (all)      25\n",
      "I (all)       2\n",
      "A (agr)       2\n",
      "Name: MS Zoning, dtype: int64 \n",
      "\n",
      "Neighborhood:  NAmes      443\n",
      "CollgCr    267\n",
      "OldTown    239\n",
      "Edwards    194\n",
      "Somerst    182\n",
      "NridgHt    166\n",
      "Gilbert    165\n",
      "Sawyer     151\n",
      "NWAmes     131\n",
      "SawyerW    125\n",
      "Mitchel    114\n",
      "BrkSide    108\n",
      "Crawfor    103\n",
      "IDOTRR      93\n",
      "Timber      71\n",
      "NoRidge     71\n",
      "StoneBr     51\n",
      "SWISU       48\n",
      "ClearCr     44\n",
      "MeadowV     37\n",
      "BrDale      30\n",
      "Blmngtn     28\n",
      "Veenker     24\n",
      "NPkVill     23\n",
      "Blueste     10\n",
      "Greens       8\n",
      "GrnHill      2\n",
      "Landmrk      1\n",
      "Name: Neighborhood, dtype: int64 \n",
      "\n",
      "Exterior 1st:  VinylSd    1025\n",
      "MetalSd     450\n",
      "HdBoard     442\n",
      "Wd Sdng     420\n",
      "Plywood     221\n",
      "CemntBd     126\n",
      "BrkFace      88\n",
      "WdShing      56\n",
      "AsbShng      44\n",
      "Stucco       43\n",
      "BrkComm       6\n",
      "AsphShn       2\n",
      "Stone         2\n",
      "CBlock        2\n",
      "PreCast       1\n",
      "ImStucc       1\n",
      "Name: Exterior 1st, dtype: int64 \n",
      "\n",
      "Roof Matl:  CompShg    2886\n",
      "Tar&Grv      23\n",
      "WdShake       9\n",
      "WdShngl       7\n",
      "ClyTile       1\n",
      "Membran       1\n",
      "Roll          1\n",
      "Metal         1\n",
      "Name: Roof Matl, dtype: int64 \n",
      "\n"
     ]
    }
   ],
   "source": [
    "for column in nominal_columns:\n",
    "    print(column+\": \",df[column].value_counts(), \"\\n\")"
   ]
  },
  {
   "cell_type": "markdown",
   "metadata": {},
   "source": [
    "#### Nominal columns (5 columns) analysis:\n",
    "\n",
    "- No one of the columns has a value that appears in more than 95% of the time.\n",
    "- No one of the columns has more than 100 possible categories."
   ]
  },
  {
   "cell_type": "markdown",
   "metadata": {},
   "source": [
    "### Possibles ways to measure correlations bewtwen the target column (\"SalePrice\") and the nominal features:\n",
    "Hypothesis: Group by each category, then take the variance  (or his square root i.e. his standard deviation) of the corresponding target column, this variance must  be similar throgh each category. One way to measure this is taking again the variance (or his square root i.e. his standard deviation)."
   ]
  },
  {
   "cell_type": "code",
   "execution_count": 46,
   "metadata": {},
   "outputs": [
    {
     "data": {
      "text/html": [
       "<div>\n",
       "<style scoped>\n",
       "    .dataframe tbody tr th:only-of-type {\n",
       "        vertical-align: middle;\n",
       "    }\n",
       "\n",
       "    .dataframe tbody tr th {\n",
       "        vertical-align: top;\n",
       "    }\n",
       "\n",
       "    .dataframe thead th {\n",
       "        text-align: right;\n",
       "    }\n",
       "</style>\n",
       "<table border=\"1\" class=\"dataframe\">\n",
       "  <thead>\n",
       "    <tr style=\"text-align: right;\">\n",
       "      <th></th>\n",
       "      <th>Foundation</th>\n",
       "      <th>Roof Matl</th>\n",
       "      <th>Neighborhood</th>\n",
       "      <th>Exterior 1st</th>\n",
       "      <th>MS Zoning</th>\n",
       "    </tr>\n",
       "  </thead>\n",
       "  <tbody>\n",
       "    <tr>\n",
       "      <th>std_value</th>\n",
       "      <td>4.006207</td>\n",
       "      <td>2.651828</td>\n",
       "      <td>6.939978</td>\n",
       "      <td>9.738175</td>\n",
       "      <td>6.891335</td>\n",
       "    </tr>\n",
       "    <tr>\n",
       "      <th>relative_std_value</th>\n",
       "      <td>1.835127</td>\n",
       "      <td>2.199529</td>\n",
       "      <td>2.856653</td>\n",
       "      <td>3.364082</td>\n",
       "      <td>4.353668</td>\n",
       "    </tr>\n",
       "  </tbody>\n",
       "</table>\n",
       "</div>"
      ],
      "text/plain": [
       "                    Foundation  Roof Matl  Neighborhood  Exterior 1st  \\\n",
       "std_value             4.006207   2.651828      6.939978      9.738175   \n",
       "relative_std_value    1.835127   2.199529      2.856653      3.364082   \n",
       "\n",
       "                    MS Zoning  \n",
       "std_value            6.891335  \n",
       "relative_std_value   4.353668  "
      ]
     },
     "execution_count": 46,
     "metadata": {},
     "output_type": "execute_result"
    }
   ],
   "source": [
    "# Testing the hypothesis all nominal columns\n",
    "# the target column to verify is \"Price_per_grlivarea\" i.e. \n",
    "# A kind of price per squar foot.\n",
    "\n",
    "nominal_correlations = {}\n",
    "for column in nominal_columns:\n",
    "    valores = list(df[column].unique())\n",
    "    std_values = []\n",
    "    relative_std_values = []\n",
    "    for valor in valores:\n",
    "        df_test = df.loc[df[column]==valor]\n",
    "    \n",
    "        std_values.append((df_test[\"Price_per_grlivarea\"].\\\n",
    "                          std()))\n",
    "        relative_std_values.append(\\\n",
    "                df_test[\"Price_per_grlivarea\"].std()\\\n",
    "                              /df_test.shape[0])\n",
    "        std_value = pd.Series(std_values).std()\n",
    "        relative_std_value = pd.Series(relative_std_values).std()\n",
    "    \n",
    "    nominal_correlations[column] = [std_value,relative_std_value]\n",
    "    \n",
    "df_nominal_correlations = pd.DataFrame\\\n",
    "(nominal_correlations,index=[\"std_value\",\"relative_std_value\"])\n",
    "df_nominal_correlations.sort_values(axis=1,ascending=True,\\\n",
    "                                    by=\"relative_std_value\")"
   ]
  },
  {
   "cell_type": "markdown",
   "metadata": {},
   "source": [
    "The best candidate of the nominal features is \"Neighborhood\", this is because:\n",
    "- \"Roof Matl\" has lower relative_std_value, but also very low variability and very low amount of unique values (see this in In[35]).\n",
    "- The same happens with \"Foundation\" column (see this in In[35]).\n",
    "\n",
    "\n",
    "#### Chi-Squared test (another approach):"
   ]
  },
  {
   "cell_type": "code",
   "execution_count": 47,
   "metadata": {},
   "outputs": [
    {
     "name": "stdout",
     "output_type": "stream",
     "text": [
      "Exterior 1st_ImStucc    2928.000000\n",
      "MS Zoning_A (agr)       2927.000000\n",
      "Neighborhood_NridgHt    1957.831110\n",
      "Neighborhood_NoRidge    1864.414372\n",
      "MS Zoning_C (all)       1824.056990\n",
      "MS Zoning_I (all)       1755.400000\n",
      "Neighborhood_Blmngtn    1681.820376\n",
      "Exterior 1st_CemntBd    1660.484052\n",
      "Neighborhood_StoneBr    1641.833660\n",
      "Exterior 1st_CBlock     1567.107143\n",
      "Exterior 1st_AsphShn    1560.133333\n",
      "Foundation_Slab         1477.849417\n",
      "Neighborhood_MeadowV    1440.343312\n",
      "Neighborhood_Somerst    1412.607586\n",
      "Neighborhood_Timber     1396.979912\n",
      "dtype: float64\n"
     ]
    }
   ],
   "source": [
    "from sklearn.feature_selection import SelectKBest\n",
    "from sklearn.feature_selection import chi2\n",
    "\n",
    "df2 = pd.get_dummies(df[nominal_columns])\n",
    "\n",
    "# feature extraction\n",
    "test = SelectKBest(score_func=chi2, k=2)\n",
    "fit = test.fit(df2,df[\"SalePrice\"])\n",
    "# summarize scores\n",
    "np.set_printoptions(precision=3)\n",
    "chi_squared_scores = pd.Series(fit.scores_,index=\\\n",
    "                                  df2.columns)\n",
    "print(chi_squared_scores.sort_values(ascending=False).head(15))"
   ]
  },
  {
   "cell_type": "markdown",
   "metadata": {},
   "source": [
    "Looking the top-15 features with highest chi-scores values, we can confirm that the Neighborhood feature appears the most of the times (7  almost the half). \n",
    "\n",
    "#### FInally, with the hypothesis tested in In[81] and chi-score test, the selected nominal feature for train the model and predict prices is: \"Neighborhood\"."
   ]
  },
  {
   "cell_type": "code",
   "execution_count": 48,
   "metadata": {},
   "outputs": [],
   "source": [
    "final_nominal_features = [\"Neighborhood\"]\n",
    "\n",
    "for column in final_nominal_features:\n",
    "    df[column] = df[column].astype(\"category\")\n",
    "    dummies = pd.get_dummies(df[column])\n",
    "    df = pd.concat([df,dummies],axis=1)\n",
    "\n",
    "neighborhoods = list(df[\"Neighborhood\"].unique())"
   ]
  },
  {
   "cell_type": "markdown",
   "metadata": {},
   "source": [
    "#### WE CAN ASSIGN A NUMERIC VALUE BASED ON PRICES FOR EACH NEIGHBORHOOD:\n"
   ]
  },
  {
   "cell_type": "code",
   "execution_count": 51,
   "metadata": {},
   "outputs": [
    {
     "data": {
      "text/html": [
       "<div>\n",
       "<style scoped>\n",
       "    .dataframe tbody tr th:only-of-type {\n",
       "        vertical-align: middle;\n",
       "    }\n",
       "\n",
       "    .dataframe tbody tr th {\n",
       "        vertical-align: top;\n",
       "    }\n",
       "\n",
       "    .dataframe thead th {\n",
       "        text-align: right;\n",
       "    }\n",
       "</style>\n",
       "<table border=\"1\" class=\"dataframe\">\n",
       "  <thead>\n",
       "    <tr style=\"text-align: right;\">\n",
       "      <th></th>\n",
       "      <th>Neighborhood</th>\n",
       "      <th>neigh_value</th>\n",
       "    </tr>\n",
       "  </thead>\n",
       "  <tbody>\n",
       "    <tr>\n",
       "      <th>0</th>\n",
       "      <td>NAmes</td>\n",
       "      <td>145097.349887</td>\n",
       "    </tr>\n",
       "    <tr>\n",
       "      <th>1</th>\n",
       "      <td>NAmes</td>\n",
       "      <td>145097.349887</td>\n",
       "    </tr>\n",
       "    <tr>\n",
       "      <th>2</th>\n",
       "      <td>NAmes</td>\n",
       "      <td>145097.349887</td>\n",
       "    </tr>\n",
       "    <tr>\n",
       "      <th>3</th>\n",
       "      <td>NAmes</td>\n",
       "      <td>145097.349887</td>\n",
       "    </tr>\n",
       "    <tr>\n",
       "      <th>4</th>\n",
       "      <td>Gilbert</td>\n",
       "      <td>190646.575758</td>\n",
       "    </tr>\n",
       "    <tr>\n",
       "      <th>5</th>\n",
       "      <td>Gilbert</td>\n",
       "      <td>190646.575758</td>\n",
       "    </tr>\n",
       "    <tr>\n",
       "      <th>6</th>\n",
       "      <td>StoneBr</td>\n",
       "      <td>324229.196078</td>\n",
       "    </tr>\n",
       "    <tr>\n",
       "      <th>7</th>\n",
       "      <td>StoneBr</td>\n",
       "      <td>324229.196078</td>\n",
       "    </tr>\n",
       "    <tr>\n",
       "      <th>8</th>\n",
       "      <td>StoneBr</td>\n",
       "      <td>324229.196078</td>\n",
       "    </tr>\n",
       "    <tr>\n",
       "      <th>9</th>\n",
       "      <td>Gilbert</td>\n",
       "      <td>190646.575758</td>\n",
       "    </tr>\n",
       "    <tr>\n",
       "      <th>10</th>\n",
       "      <td>Gilbert</td>\n",
       "      <td>190646.575758</td>\n",
       "    </tr>\n",
       "    <tr>\n",
       "      <th>11</th>\n",
       "      <td>Gilbert</td>\n",
       "      <td>190646.575758</td>\n",
       "    </tr>\n",
       "    <tr>\n",
       "      <th>12</th>\n",
       "      <td>Gilbert</td>\n",
       "      <td>190646.575758</td>\n",
       "    </tr>\n",
       "    <tr>\n",
       "      <th>13</th>\n",
       "      <td>Gilbert</td>\n",
       "      <td>190646.575758</td>\n",
       "    </tr>\n",
       "    <tr>\n",
       "      <th>14</th>\n",
       "      <td>StoneBr</td>\n",
       "      <td>324229.196078</td>\n",
       "    </tr>\n",
       "    <tr>\n",
       "      <th>15</th>\n",
       "      <td>StoneBr</td>\n",
       "      <td>324229.196078</td>\n",
       "    </tr>\n",
       "    <tr>\n",
       "      <th>16</th>\n",
       "      <td>Gilbert</td>\n",
       "      <td>190646.575758</td>\n",
       "    </tr>\n",
       "    <tr>\n",
       "      <th>17</th>\n",
       "      <td>StoneBr</td>\n",
       "      <td>324229.196078</td>\n",
       "    </tr>\n",
       "    <tr>\n",
       "      <th>18</th>\n",
       "      <td>Gilbert</td>\n",
       "      <td>190646.575758</td>\n",
       "    </tr>\n",
       "    <tr>\n",
       "      <th>19</th>\n",
       "      <td>NWAmes</td>\n",
       "      <td>188406.908397</td>\n",
       "    </tr>\n",
       "    <tr>\n",
       "      <th>20</th>\n",
       "      <td>NWAmes</td>\n",
       "      <td>188406.908397</td>\n",
       "    </tr>\n",
       "  </tbody>\n",
       "</table>\n",
       "</div>"
      ],
      "text/plain": [
       "   Neighborhood    neigh_value\n",
       "0         NAmes  145097.349887\n",
       "1         NAmes  145097.349887\n",
       "2         NAmes  145097.349887\n",
       "3         NAmes  145097.349887\n",
       "4       Gilbert  190646.575758\n",
       "5       Gilbert  190646.575758\n",
       "6       StoneBr  324229.196078\n",
       "7       StoneBr  324229.196078\n",
       "8       StoneBr  324229.196078\n",
       "9       Gilbert  190646.575758\n",
       "10      Gilbert  190646.575758\n",
       "11      Gilbert  190646.575758\n",
       "12      Gilbert  190646.575758\n",
       "13      Gilbert  190646.575758\n",
       "14      StoneBr  324229.196078\n",
       "15      StoneBr  324229.196078\n",
       "16      Gilbert  190646.575758\n",
       "17      StoneBr  324229.196078\n",
       "18      Gilbert  190646.575758\n",
       "19       NWAmes  188406.908397\n",
       "20       NWAmes  188406.908397"
      ]
     },
     "execution_count": 51,
     "metadata": {},
     "output_type": "execute_result"
    }
   ],
   "source": [
    "df[\"neigh_value\"] = 0\n",
    "for neighborhood in neighborhoods:\n",
    "    df_locked = df.loc[df[\"Neighborhood\"]==neighborhood]\n",
    "    value = df_locked[\"SalePrice\"].mean()\n",
    "    df.loc[df[\"Neighborhood\"]==neighborhood,\"neigh_value\"] = value\n",
    "    \n",
    "df[[\"Neighborhood\",\"neigh_value\"]].head(21)"
   ]
  },
  {
   "cell_type": "markdown",
   "metadata": {
    "collapsed": true
   },
   "source": [
    "##### NORMALIZING NUMERICAL COLUMNS:"
   ]
  },
  {
   "cell_type": "code",
   "execution_count": 52,
   "metadata": {},
   "outputs": [],
   "source": [
    "df[ordinal_columns] = df[ordinal_columns].astype(float)\n",
    "df[continuous_columns] = df[continuous_columns].astype(float)\n",
    "df[ordinal_columns+continuous_columns].dtypes\n",
    "numeric_columns = continuous_columns+\\\n",
    "        ordinal_columns+[\"Antigüedad\"]"
   ]
  },
  {
   "cell_type": "code",
   "execution_count": 53,
   "metadata": {},
   "outputs": [],
   "source": [
    "for column in numeric_columns:\n",
    "    df[column] = (df[column] - df[column].min())/\\\n",
    "                (df[column].max() - df[column].min())\n"
   ]
  },
  {
   "cell_type": "markdown",
   "metadata": {
    "collapsed": true
   },
   "source": [
    "#### SUMARIZING FINAL SELECTED FEATURES:"
   ]
  },
  {
   "cell_type": "code",
   "execution_count": 54,
   "metadata": {},
   "outputs": [
    {
     "data": {
      "text/plain": [
       "34452.726314436324"
      ]
     },
     "execution_count": 54,
     "metadata": {},
     "output_type": "execute_result"
    }
   ],
   "source": [
    "final_numerical_columns = numeric_columns\n",
    "final_nominal_features = [\"neigh_value\"] \n",
    "\n",
    "total_final_features = final_numerical_columns+\\\n",
    "                        final_nominal_features\n",
    "    \n",
    "train_and_test(df,\\\n",
    "    total_final_features,target=\"SalePrice\",k=8)"
   ]
  },
  {
   "cell_type": "code",
   "execution_count": 55,
   "metadata": {},
   "outputs": [
    {
     "data": {
      "image/png": "[encoded data removed]",
      "text/plain": [
       "<matplotlib.figure.Figure at 0x7f77df3f7d68>"
      ]
     },
     "metadata": {},
     "output_type": "display_data"
    }
   ],
   "source": [
    "x = range(0,10)\n",
    "rmses = []\n",
    "for i in range(10):\n",
    "    rmse = train_and_test(df,\\\n",
    "            total_final_features,target=\"SalePrice\",k=i)\n",
    "    rmses.append(rmse)\n",
    "\n",
    "plt.scatter(x,rmses,color=\"g\")\n",
    "plt.xlabel(\"k-values\")\n",
    "plt.ylabel(\"RMSE\")\n",
    "plt.show()"
   ]
  },
  {
   "cell_type": "code",
   "execution_count": null,
   "metadata": {
    "collapsed": true
   },
   "outputs": [],
   "source": []
  }
 ],
 "metadata": {
  "anaconda-cloud": {},
  "kernelspec": {
   "display_name": "Python 3",
   "language": "python",
   "name": "python3"
  },
  "language_info": {
   "codemirror_mode": {
    "name": "ipython",
    "version": 3
   },
   "file_extension": ".py",
   "mimetype": "text/x-python",
   "name": "python",
   "nbconvert_exporter": "python",
   "pygments_lexer": "ipython3",
   "version": "3.6.4"
  }
 },
 "nbformat": 4,
 "nbformat_minor": 2
}
